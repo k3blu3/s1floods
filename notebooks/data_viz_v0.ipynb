{
 "cells": [
  {
   "cell_type": "markdown",
   "id": "f2b8bd42-f28e-4d3b-90b7-5927e27eb266",
   "metadata": {},
   "source": [
    "## Floods dataset visualization"
   ]
  },
  {
   "cell_type": "code",
   "execution_count": 1,
   "id": "b32638a2-d1da-46a2-9ab3-c1876cf7d14f",
   "metadata": {},
   "outputs": [],
   "source": [
    "from datetime import datetime\n",
    "import numpy as np\n",
    "import pandas as pd\n",
    "import os\n",
    "import rasterio\n",
    "from tqdm.notebook import tqdm\n",
    "import matplotlib.pyplot as plt\n",
    "%matplotlib inline"
   ]
  },
  {
   "cell_type": "code",
   "execution_count": 2,
   "id": "9ff983aa-e3c1-42fd-8865-82520b80ca46",
   "metadata": {},
   "outputs": [
    {
     "name": "stderr",
     "output_type": "stream",
     "text": [
      "/usr/lib/python3/dist-packages/dask/dataframe/utils.py:14: FutureWarning: pandas.util.testing is deprecated. Use the functions in the public API at pandas.testing instead.\n",
      "  import pandas.util.testing as tm\n",
      "/home/k3blu3/mldev/lib/python3.8/site-packages/xarray/backends/cfgrib_.py:27: UserWarning: Failed to load cfgrib - most likely there is a problem accessing the ecCodes library. Try `import cfgrib` to get the full error message\n",
      "  warnings.warn(\n"
     ]
    }
   ],
   "source": [
    "import datashader as ds\n",
    "from datashader.colors import Elevation\n",
    "import datashader.transfer_functions as tf\n",
    "from datashader.transfer_functions import shade\n",
    "from datashader.transfer_functions import stack\n",
    "from datashader.transfer_functions import dynspread\n",
    "from datashader.transfer_functions import set_background\n",
    "from datashader.transfer_functions import Images, Image\n",
    "from datashader.utils import orient_array\n",
    "import xarray as xr\n",
    "import xrspatial.multispectral as ms\n",
    "from xrspatial import hillshade"
   ]
  },
  {
   "cell_type": "markdown",
   "id": "4bbf31ef-0bf3-40a9-82b4-ceacfa219a9d",
   "metadata": {},
   "source": [
    "### Read in all the data"
   ]
  },
  {
   "cell_type": "code",
   "execution_count": 3,
   "id": "154e3bbd-6fe4-4f84-84dd-116ffea2aa2c",
   "metadata": {},
   "outputs": [],
   "source": [
    "root_dir = '/home/k3blu3/datasets/s1floods'\n",
    "meta_file = 'flood-training-metadata.csv'\n",
    "image_dir = os.path.join(root_dir, 'train_features')\n",
    "label_dir = os.path.join(root_dir, 'train_labels')"
   ]
  },
  {
   "cell_type": "code",
   "execution_count": 4,
   "id": "13e505fb-e2d7-48db-9f0c-1d532ff73bc7",
   "metadata": {},
   "outputs": [
    {
     "data": {
      "text/html": [
       "<div>\n",
       "<style scoped>\n",
       "    .dataframe tbody tr th:only-of-type {\n",
       "        vertical-align: middle;\n",
       "    }\n",
       "\n",
       "    .dataframe tbody tr th {\n",
       "        vertical-align: top;\n",
       "    }\n",
       "\n",
       "    .dataframe thead th {\n",
       "        text-align: right;\n",
       "    }\n",
       "</style>\n",
       "<table border=\"1\" class=\"dataframe\">\n",
       "  <thead>\n",
       "    <tr style=\"text-align: right;\">\n",
       "      <th></th>\n",
       "      <th>image_id</th>\n",
       "      <th>chip_id</th>\n",
       "      <th>flood_id</th>\n",
       "      <th>polarization</th>\n",
       "      <th>location</th>\n",
       "      <th>scene_start</th>\n",
       "    </tr>\n",
       "  </thead>\n",
       "  <tbody>\n",
       "    <tr>\n",
       "      <th>0</th>\n",
       "      <td>awc00_vh</td>\n",
       "      <td>awc00</td>\n",
       "      <td>awc</td>\n",
       "      <td>vh</td>\n",
       "      <td>Bolivia</td>\n",
       "      <td>2018-02-15</td>\n",
       "    </tr>\n",
       "    <tr>\n",
       "      <th>1</th>\n",
       "      <td>awc00_vv</td>\n",
       "      <td>awc00</td>\n",
       "      <td>awc</td>\n",
       "      <td>vv</td>\n",
       "      <td>Bolivia</td>\n",
       "      <td>2018-02-15</td>\n",
       "    </tr>\n",
       "    <tr>\n",
       "      <th>2</th>\n",
       "      <td>awc01_vh</td>\n",
       "      <td>awc01</td>\n",
       "      <td>awc</td>\n",
       "      <td>vh</td>\n",
       "      <td>Bolivia</td>\n",
       "      <td>2018-02-15</td>\n",
       "    </tr>\n",
       "    <tr>\n",
       "      <th>3</th>\n",
       "      <td>awc01_vv</td>\n",
       "      <td>awc01</td>\n",
       "      <td>awc</td>\n",
       "      <td>vv</td>\n",
       "      <td>Bolivia</td>\n",
       "      <td>2018-02-15</td>\n",
       "    </tr>\n",
       "    <tr>\n",
       "      <th>4</th>\n",
       "      <td>awc02_vh</td>\n",
       "      <td>awc02</td>\n",
       "      <td>awc</td>\n",
       "      <td>vh</td>\n",
       "      <td>Bolivia</td>\n",
       "      <td>2018-02-15</td>\n",
       "    </tr>\n",
       "  </tbody>\n",
       "</table>\n",
       "</div>"
      ],
      "text/plain": [
       "   image_id chip_id flood_id polarization location scene_start\n",
       "0  awc00_vh   awc00      awc           vh  Bolivia  2018-02-15\n",
       "1  awc00_vv   awc00      awc           vv  Bolivia  2018-02-15\n",
       "2  awc01_vh   awc01      awc           vh  Bolivia  2018-02-15\n",
       "3  awc01_vv   awc01      awc           vv  Bolivia  2018-02-15\n",
       "4  awc02_vh   awc02      awc           vh  Bolivia  2018-02-15"
      ]
     },
     "execution_count": 4,
     "metadata": {},
     "output_type": "execute_result"
    }
   ],
   "source": [
    "df = pd.read_csv(os.path.join(root_dir, meta_file))\n",
    "df.head(5)"
   ]
  },
  {
   "cell_type": "code",
   "execution_count": 6,
   "id": "979a32f9-7a16-48ff-839a-a9a2c0344319",
   "metadata": {},
   "outputs": [],
   "source": [
    "# define all image types per chip id\n",
    "extensions = ['vv', 'vh', 'nasadem', 'jrc-gsw-occurrence']"
   ]
  },
  {
   "cell_type": "code",
   "execution_count": 7,
   "id": "30db9ec2-6adc-4021-b1e3-a31f486480d6",
   "metadata": {},
   "outputs": [],
   "source": [
    "# keep unique chip ids\n",
    "df= df.drop_duplicates(subset=['chip_id'])"
   ]
  },
  {
   "cell_type": "code",
   "execution_count": 8,
   "id": "2c2c360c-f62f-4237-9d2a-097d83db8809",
   "metadata": {},
   "outputs": [
    {
     "data": {
      "text/plain": [
       "542"
      ]
     },
     "execution_count": 8,
     "metadata": {},
     "output_type": "execute_result"
    }
   ],
   "source": [
    "len(df)"
   ]
  },
  {
   "cell_type": "code",
   "execution_count": null,
   "id": "c9fab061-cf6e-4be1-bc58-82c1e45590ac",
   "metadata": {},
   "outputs": [],
   "source": [
    "all_layers = list()\n",
    "for idx, row in tqdm(df.iterrows(), total=len(df)):\n",
    "    # read in all image types\n",
    "    layers = dict()\n",
    "    for ext in extensions:\n",
    "        cvs = ds.Canvas(plot_width=512, plot_height=512)\n",
    "        fname = os.path.join(image_dir, f\"{row['chip_id']}_{ext}.tif\")\n",
    "        layer = xr.open_rasterio(fname).load()[0]\n",
    "        layer.name = ext\n",
    "        layer = cvs.raster(layer, agg='mean')\n",
    "        layer.data = orient_array(layer)\n",
    "        layers[ext] = layer\n",
    "        \n",
    "    # read in target\n",
    "    cvs = ds.Canvas(plot_width=512, plot_height=512)\n",
    "    fname = os.path.join(label_dir, f\"{row['chip_id']}.tif\")\n",
    "    layer = xr.open_rasterio(fname).load()[0]\n",
    "    layer.name = 'label'\n",
    "    layer = cvs.raster(layer, agg='mean')\n",
    "    layer.data = orient_array(layer)\n",
    "    layers['label'] = layer   \n",
    "    \n",
    "    all_layers.append(layers)"
   ]
  },
  {
   "cell_type": "markdown",
   "id": "ea884aac-9fcd-41da-bed0-ecab8bfe70a8",
   "metadata": {},
   "source": [
    "### Visualize the data"
   ]
  },
  {
   "cell_type": "code",
   "execution_count": null,
   "id": "89da66ab-a80e-4ab0-bed2-150184fb7447",
   "metadata": {},
   "outputs": [],
   "source": [
    "# write a function to rescale an input image with percentile scaling\n",
    "def rescale_img(img, min_val=0.0, max_val=1.0, dtype=np.float32, pmin=0.0, pmax=100.0, vmin=None, vmax=None):\n",
    "    # compute min and max percentile ranges to scale with\n",
    "    if not vmin:\n",
    "        vmin, vmax = np.nanpercentile(img, pmin), np.nanpercentile(img, pmax)\n",
    "\n",
    "    # rescale & clip\n",
    "    img_rescale = ((img - vmin) * (1.0 / (vmax - vmin) * max_val)).astype(dtype)\n",
    "    np.clip(img_rescale, min_val, max_val, out=img_rescale)\n",
    "\n",
    "    return img_rescale"
   ]
  },
  {
   "cell_type": "code",
   "execution_count": null,
   "id": "f219d2dd-b178-4efc-a53f-8e7da576bf45",
   "metadata": {},
   "outputs": [],
   "source": [
    "outdir = os.path.join(root_dir, 'training_viz')\n",
    "if not os.path.exists(outdir):\n",
    "    os.makedirs(outdir)"
   ]
  },
  {
   "cell_type": "code",
   "execution_count": null,
   "id": "1944a382-fa4d-4700-9026-ec3518060db8",
   "metadata": {},
   "outputs": [],
   "source": [
    "plt.close('all')"
   ]
  },
  {
   "cell_type": "code",
   "execution_count": null,
   "id": "e28e1333-c525-4db5-9bc0-ae46645fbd5a",
   "metadata": {},
   "outputs": [],
   "source": [
    "ctr = 1\n",
    "for idx, row in tqdm(df.iterrows(), total=len(df)):\n",
    "    layers = all_layers[ctr-1]\n",
    "    \n",
    "    # render hillshade on top of elevation\n",
    "    el = layers['nasadem']\n",
    "    hs = hillshade(el, azimuth=100, angle_altitude=50)\n",
    "    dem = stack(shade(hs, cmap=['white', 'gray']), shade(el, cmap=Elevation, alpha=128))\n",
    "\n",
    "    # create matplotlib figure\n",
    "    plt.figure(dpi=200, figsize=(6, 6))\n",
    "    \n",
    "    # display VH, VV, VH\n",
    "    plt.subplot(2, 2, 1)\n",
    "    vv = np.ma.masked_equal(layers['vv'].to_numpy(), 0)\n",
    "    vh = np.ma.masked_equal(layers['vh'].to_numpy(), 0)\n",
    "    vh = rescale_img(vv, pmin=1, pmax=99)\n",
    "    vv = rescale_img(vh, pmin=1, pmax=99)\n",
    "    sar_img = np.ma.stack([vh, vv, vh], axis=-1)\n",
    "    ax = plt.gca()\n",
    "    ax.get_xaxis().set_visible(False)\n",
    "    ax.get_yaxis().set_visible(False)\n",
    "    plt.title('Sentinel 1 VH', fontsize=6)\n",
    "    plt.imshow(vh, cmap='cividis')\n",
    "    \n",
    "    # display target\n",
    "    plt.subplot(2, 2, 2)\n",
    "    label = np.ma.masked_equal(layers['label'].to_numpy(), 255)\n",
    "    label = rescale_img(label, vmin=0, vmax=1)\n",
    "    ax = plt.gca()\n",
    "    ax.get_xaxis().set_visible(False)\n",
    "    ax.get_yaxis().set_visible(False)\n",
    "    plt.title('Flood Label', fontsize=6)\n",
    "    plt.imshow(label, cmap='inferno') \n",
    "    \n",
    "    # display DEM\n",
    "    plt.subplot(2, 2, 3)\n",
    "    nasadem = np.asarray(dem.to_pil())\n",
    "    ax = plt.gca()\n",
    "    ax.get_xaxis().set_visible(False)\n",
    "    ax.get_yaxis().set_visible(False)\n",
    "    plt.title('NASA DEM', fontsize=6)\n",
    "    plt.imshow(nasadem)\n",
    "    \n",
    "    # display JRC\n",
    "    plt.subplot(2, 2, 4)\n",
    "    jrc = rescale_img(layers['jrc-gsw-occurrence'].to_numpy(), vmin=0, vmax=100)\n",
    "    ax = plt.gca()\n",
    "    ax.get_xaxis().set_visible(False)\n",
    "    ax.get_yaxis().set_visible(False)\n",
    "    plt.title('JRC Occurrence', fontsize=6)\n",
    "    plt.imshow(jrc, cmap='Blues')   \n",
    "    \n",
    "    fout = os.path.join(outdir, 'image_{:03d}.jpg'.format(ctr))\n",
    "    plt.savefig(fout, bbox_inches='tight')\n",
    "    #lt.tight_layout(w_pad=0.1, h_pad=0.1)\n",
    "\n",
    "    #plt.show()\n",
    "    plt.close()\n",
    "    ctr += 1\n",
    "    \n",
    "    #break"
   ]
  }
 ],
 "metadata": {
  "kernelspec": {
   "display_name": "mldev",
   "language": "python",
   "name": "mldev"
  },
  "language_info": {
   "codemirror_mode": {
    "name": "ipython",
    "version": 3
   },
   "file_extension": ".py",
   "mimetype": "text/x-python",
   "name": "python",
   "nbconvert_exporter": "python",
   "pygments_lexer": "ipython3",
   "version": "3.8.10"
  }
 },
 "nbformat": 4,
 "nbformat_minor": 5
}
