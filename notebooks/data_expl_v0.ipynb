{
 "cells": [
  {
   "cell_type": "markdown",
   "metadata": {},
   "source": [
    "## Floods dataset exploration"
   ]
  },
  {
   "cell_type": "code",
   "execution_count": null,
   "metadata": {},
   "outputs": [],
   "source": [
    "from datetime import datetime\n",
    "import numpy as np\n",
    "import pandas as pd\n",
    "import os\n",
    "from osgeo import gdal\n",
    "import rasterio\n",
    "\n",
    "from tqdm.notebook import tqdm\n",
    "import matplotlib.pyplot as plt\n",
    "%matplotlib inline"
   ]
  },
  {
   "cell_type": "markdown",
   "metadata": {},
   "source": [
    "### Read in all the data"
   ]
  },
  {
   "cell_type": "code",
   "execution_count": null,
   "metadata": {},
   "outputs": [],
   "source": [
    "root_dir = '/home/k3blu3/datasets/s1floods'\n",
    "meta_file = 'flood-training-metadata.csv'\n",
    "image_dir = os.path.join(root_dir, 'train_features')\n",
    "label_dir = os.path.join(root_dir, 'train_labels')"
   ]
  },
  {
   "cell_type": "code",
   "execution_count": null,
   "metadata": {},
   "outputs": [],
   "source": [
    "df = pd.read_csv(os.path.join(root_dir, meta_file))\n",
    "df.head(5)"
   ]
  },
  {
   "cell_type": "code",
   "execution_count": null,
   "metadata": {},
   "outputs": [],
   "source": [
    "# define all image types per chip id\n",
    "extensions = ['vv', 'vh', 'nasadem', 'jrc-gsw-occurrence']"
   ]
  },
  {
   "cell_type": "code",
   "execution_count": null,
   "metadata": {},
   "outputs": [],
   "source": [
    "# keep unique chip ids\n",
    "df= df.drop_duplicates(subset=['chip_id'])"
   ]
  },
  {
   "cell_type": "code",
   "execution_count": null,
   "metadata": {},
   "outputs": [],
   "source": [
    "data_stack = list()\n",
    "for idx, row in tqdm(df.iterrows(), total=len(df)):\n",
    "    layers = list()\n",
    "    for ext in extensions:\n",
    "        fname = os.path.join(image_dir, f\"{row['chip_id']}_{ext}.tif\")\n",
    "        with rasterio.open(fname) as src:\n",
    "            layer = src.read(1, masked=True)\n",
    "            layers.append(layer)\n",
    "    \n",
    "    layers = np.ma.stack(layers, axis=-1)\n",
    "    \n",
    "    data_stack.append(layers)\n",
    "    \n",
    "data_stack = np.ma.stack(data_stack, axis=0)"
   ]
  },
  {
   "cell_type": "code",
   "execution_count": null,
   "metadata": {},
   "outputs": [],
   "source": [
    "data_stack[:, :, :, 3].std()"
   ]
  },
  {
   "cell_type": "markdown",
   "metadata": {},
   "source": [
    "### Plot histograms of all the bands"
   ]
  },
  {
   "cell_type": "code",
   "execution_count": null,
   "metadata": {},
   "outputs": [],
   "source": [
    "hist_stack = list()\n",
    "bin_stack = list()\n",
    "n_bins = 25\n",
    "ranges = [(-50, 0), (-50, 0), (0, 500), (0, 100)]\n",
    "for eidx, ext in tqdm(enumerate(extensions), total=len(extensions)):\n",
    "    ext_data = data_stack[:, :, :, eidx]\n",
    "    hist, bins = np.histogram(ext_data.compressed(), n_bins, ranges[eidx])\n",
    "    hist_stack.append(hist)\n",
    "    bin_stack.append(bins)\n",
    "    \n",
    "hist_stack = np.stack(hist_stack, axis=0)\n",
    "bin_stack = np.stack(bin_stack, axis=0)"
   ]
  },
  {
   "cell_type": "code",
   "execution_count": null,
   "metadata": {},
   "outputs": [],
   "source": [
    "plt.figure(dpi=250, figsize=(5, 5))\n",
    "plt.tight_layout()\n",
    "plt.subplots_adjust(hspace=0.5, wspace=0.3)\n",
    "plt.style.use('ggplot')\n",
    "colors = ['tab:green', 'tab:purple', 'tab:orange', 'tab:blue']\n",
    "\n",
    "plt.subplot(2, 2, 1)\n",
    "plt.plot(bin_stack[0, :-1], hist_stack[0, :]/hist_stack[0, :].max(), linewidth=0.5, color=colors[0])\n",
    "plt.title(extensions[0], fontsize=8)\n",
    "plt.xlabel('Amplitude (dB)', fontsize=5)\n",
    "plt.ylabel('Normalized counts', fontsize=5)\n",
    "plt.xticks(fontsize=4)\n",
    "plt.yticks(fontsize=4)\n",
    "\n",
    "plt.subplot(2, 2, 2)\n",
    "plt.plot(bin_stack[1, :-1], hist_stack[1, :]/hist_stack[1, :].max(), linewidth=0.5, color=colors[1])\n",
    "plt.title(extensions[1], fontsize=8)\n",
    "plt.xlabel('Amplitude (dB)', fontsize=5)\n",
    "plt.ylabel('Normalized counts', fontsize=5)\n",
    "plt.xticks(fontsize=4)\n",
    "plt.yticks(fontsize=4)\n",
    "\n",
    "plt.subplot(2, 2, 3)\n",
    "plt.plot(bin_stack[2, :-1], hist_stack[2, :]/hist_stack[2, :].max(), linewidth=0.5, color=colors[2])\n",
    "plt.title(extensions[2], fontsize=8)\n",
    "plt.xlabel('Elevation (meters)', fontsize=5)\n",
    "plt.ylabel('Normalized counts', fontsize=5)\n",
    "plt.xticks(fontsize=4)\n",
    "plt.yticks(fontsize=4)\n",
    "\n",
    "plt.subplot(2, 2, 4)\n",
    "plt.plot(bin_stack[3, :-1], hist_stack[3, :]/hist_stack[3, :].max(), linewidth=0.5, color=colors[3])\n",
    "plt.title(extensions[3], fontsize=8)\n",
    "plt.xlabel('Seasonal Water Occurrence', fontsize=5)\n",
    "plt.ylabel('Normalized counts', fontsize=5)\n",
    "plt.xticks(fontsize=4)\n",
    "plt.yticks(fontsize=4)\n",
    "\n",
    "plt.show()\n",
    "#plt.savefig('hist.jpg', bbox_inches='tight')\n",
    "plt.close()"
   ]
  },
  {
   "cell_type": "markdown",
   "metadata": {},
   "source": [
    "### Compute slope from elevation"
   ]
  },
  {
   "cell_type": "code",
   "execution_count": null,
   "metadata": {},
   "outputs": [],
   "source": [
    "dem_ext = 'nasadem'\n",
    "elev_stack = list()\n",
    "slope_stack = list()\n",
    "for idx, row in tqdm(df.iterrows(), total=len(df)):\n",
    "    fname = os.path.join(image_dir, f\"{row['chip_id']}_{dem_ext}.tif\")\n",
    "    elev_ds = gdal.Open(fname)\n",
    "    slope_ds = gdal.DEMProcessing('', elev_ds, 'slope', format='MEM')\n",
    "    \n",
    "    elev = elev_ds.ReadAsArray()\n",
    "    slope = slope_ds.ReadAsArray()\n",
    "    \n",
    "    elev_stack.append(elev)\n",
    "    slope_stack.append(slope)\n",
    "\n",
    "    elev_ds = None\n",
    "    slope_ds = None\n",
    "    \n",
    "elev_stack = np.stack(elev_stack, axis=0)\n",
    "slope_stack = np.stack(slope_stack, axis=0)"
   ]
  },
  {
   "cell_type": "code",
   "execution_count": null,
   "metadata": {},
   "outputs": [],
   "source": [
    "elev_hist, elev_bins = np.histogram(elev_stack, 25, (0, 500))\n",
    "slope_hist, slope_bins = np.histogram(slope_stack, 25, (0, 25))"
   ]
  },
  {
   "cell_type": "code",
   "execution_count": null,
   "metadata": {},
   "outputs": [],
   "source": [
    "plt.figure(dpi=250, figsize=(3, 2.5))\n",
    "plt.tight_layout()\n",
    "plt.subplots_adjust(hspace=1, wspace=0.3)\n",
    "plt.style.use('ggplot')\n",
    "colors = ['tab:green', 'tab:purple']\n",
    "\n",
    "plt.subplot(2, 1, 1)\n",
    "plt.plot(elev_bins[:-1], elev_hist/elev_hist.max(), linewidth=0.5, color=colors[0])\n",
    "plt.title('Elevation', fontsize=8)\n",
    "plt.xlabel('Elevation (meters)', fontsize=5)\n",
    "plt.ylabel('Normalized counts', fontsize=5)\n",
    "plt.xticks(fontsize=4)\n",
    "plt.yticks(fontsize=4)\n",
    "\n",
    "plt.subplot(2, 1, 2)\n",
    "plt.plot(slope_bins[:-1], slope_hist/slope_hist.max(), linewidth=0.5, color=colors[1])\n",
    "plt.title('Slope', fontsize=8)\n",
    "plt.xlabel('Degrees', fontsize=5)\n",
    "plt.ylabel('Normalized counts', fontsize=5)\n",
    "plt.xticks(fontsize=4)\n",
    "plt.yticks(fontsize=4)\n",
    "\n",
    "#plt.show()\n",
    "plt.savefig('slope.jpg', bbox_inches='tight')\n",
    "#plt.close()"
   ]
  },
  {
   "cell_type": "code",
   "execution_count": null,
   "metadata": {},
   "outputs": [],
   "source": []
  }
 ],
 "metadata": {
  "kernelspec": {
   "display_name": "mldev",
   "language": "python",
   "name": "mldev"
  },
  "language_info": {
   "codemirror_mode": {
    "name": "ipython",
    "version": 3
   },
   "file_extension": ".py",
   "mimetype": "text/x-python",
   "name": "python",
   "nbconvert_exporter": "python",
   "pygments_lexer": "ipython3",
   "version": "3.8.10"
  }
 },
 "nbformat": 4,
 "nbformat_minor": 4
}
